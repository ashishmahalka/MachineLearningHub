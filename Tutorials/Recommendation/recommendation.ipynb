{
 "cells": [
  {
   "cell_type": "markdown",
   "metadata": {},
   "source": [
    "#### Recommendation Modeling"
   ]
  },
  {
   "cell_type": "markdown",
   "metadata": {},
   "source": [
    "A recommendation system generates a compiled list of items in which a user might be interested, in the reciprocity of their current selection of items\n",
    "There are generally two types of recommendation systems : \n",
    "+ Content filtering - expects side properties of library items, issues - expects item info\n",
    "+ Collaborative filtering - consider's user opinion on different items, issues - no recommendation on items with no ratings, sparsity\n",
    "\n",
    "Different types of Collaborative filtering :\n",
    "+ Non-probabilistic algorithm -\n",
    "  * User based nearest neighbour\n",
    "  * Item based nearest neighbour\n",
    "  * Reducing dimensionality\n",
    "+ Probabilistic algorithm -\n",
    "  * Bayesian Network\n",
    "  * EM Algorithm"
   ]
  },
  {
   "cell_type": "markdown",
   "metadata": {},
   "source": []
  }
 ],
 "metadata": {
  "interpreter": {
   "hash": "0bf7dd9064dc8d3d26353af1ce9f3430248c685b56844fe666d531c2db7c92ef"
  },
  "kernelspec": {
   "display_name": "Python 3.9.5 ('rosie')",
   "language": "python",
   "name": "python3"
  },
  "language_info": {
   "name": "python",
   "version": "3.9.5"
  },
  "orig_nbformat": 4
 },
 "nbformat": 4,
 "nbformat_minor": 2
}
