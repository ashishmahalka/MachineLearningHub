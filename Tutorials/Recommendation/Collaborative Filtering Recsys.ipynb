{
 "cells": [
  {
   "cell_type": "markdown",
   "id": "d3fd81df",
   "metadata": {},
   "source": [
    "#### Recsys utils"
   ]
  },
  {
   "cell_type": "code",
   "execution_count": null,
   "id": "2c0e6487",
   "metadata": {},
   "outputs": [],
   "source": [
    "import numpy as np\n",
    "import pandas as pd\n",
    "from numpy import loadtxt\n",
    "\n",
    "def normalizeRatings(Y, R):\n",
    "    \"\"\"\n",
    "    Preprocess data by subtracting mean rating for every movie (every row).\n",
    "    Only include real ratings R(i,j)=1.\n",
    "    [Ynorm, Ymean] = normalizeRatings(Y, R) normalized Y so that each movie\n",
    "    has a rating of 0 on average. Unrated moves then have a mean rating (0)\n",
    "    Returns the mean rating in Ymean.\n",
    "    \"\"\"\n",
    "    Ymean = (np.sum(Y*R,axis=1)/(np.sum(R, axis=1)+1e-12)).reshape(-1,1)\n",
    "    Ynorm = Y - np.multiply(Ymean, R) \n",
    "    return(Ynorm, Ymean)\n",
    "\n",
    "def load_precalc_params_small():\n",
    "\n",
    "    file = open('./data/small_movies_X.csv', 'rb')\n",
    "    X = loadtxt(file, delimiter = \",\")\n",
    "\n",
    "    file = open('./data/small_movies_W.csv', 'rb')\n",
    "    W = loadtxt(file,delimiter = \",\")\n",
    "\n",
    "    file = open('./data/small_movies_b.csv', 'rb')\n",
    "    b = loadtxt(file,delimiter = \",\")\n",
    "    b = b.reshape(1,-1)\n",
    "    num_movies, num_features = X.shape\n",
    "    num_users,_ = W.shape\n",
    "    return(X, W, b, num_movies, num_features, num_users)\n",
    "    \n",
    "def load_ratings_small():\n",
    "    file = open('./data/small_movies_Y.csv', 'rb')\n",
    "    Y = loadtxt(file,delimiter = \",\")\n",
    "\n",
    "    file = open('./data/small_movies_R.csv', 'rb')\n",
    "    R = loadtxt(file,delimiter = \",\")\n",
    "    return(Y,R)\n",
    "\n",
    "def load_Movie_List_pd():\n",
    "    \"\"\" returns df with and index of movies in the order they are in in the Y matrix \"\"\"\n",
    "    df = pd.read_csv('./data/small_movie_list.csv', header=0, index_col=0,  delimiter=',', quotechar='\"')\n",
    "    mlist = df[\"title\"].to_list()\n",
    "    return(mlist, df)"
   ]
  }
 ],
 "metadata": {
  "kernelspec": {
   "display_name": "Python 3",
   "language": "python",
   "name": "python3"
  },
  "language_info": {
   "codemirror_mode": {
    "name": "ipython",
    "version": 3
   },
   "file_extension": ".py",
   "mimetype": "text/x-python",
   "name": "python",
   "nbconvert_exporter": "python",
   "pygments_lexer": "ipython3",
   "version": "3.8.13"
  }
 },
 "nbformat": 4,
 "nbformat_minor": 5
}
