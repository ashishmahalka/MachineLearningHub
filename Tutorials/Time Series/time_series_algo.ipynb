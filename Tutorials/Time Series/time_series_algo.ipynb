{
 "cells": [
  {
   "cell_type": "markdown",
   "metadata": {},
   "source": [
    "### Time Series Modeling"
   ]
  },
  {
   "cell_type": "markdown",
   "metadata": {},
   "source": [
    "\\begin{equation}\n",
    "X_t = T_t + S_t + C_t + \\epsilon_t\n",
    "\\end{equation}"
   ]
  },
  {
   "cell_type": "markdown",
   "metadata": {},
   "source": [
    " + Exponential smoothing\n",
    " + Arima\n",
    " + Prophet\n",
    " + AutoTS\n",
    " + State space models (kalman filter and friends)\n",
    " + Validation methods for time series\n",
    "​ + ML approach to time series\n",
    " + Deep Learning methods: LSTM, CNN, Transfomers\n",
    " + Multivariate and hierarchical models\n",
    " + Anomaly detection\n",
    "​ + Clustering and classification of time series\n",
    " + Causality"
   ]
  },
  {
   "cell_type": "code",
   "execution_count": null,
   "metadata": {},
   "outputs": [],
   "source": []
  }
 ],
 "metadata": {
  "interpreter": {
   "hash": "0bf7dd9064dc8d3d26353af1ce9f3430248c685b56844fe666d531c2db7c92ef"
  },
  "kernelspec": {
   "display_name": "Python 3.9.5 64-bit ('rosie': conda)",
   "language": "python",
   "name": "python3"
  },
  "language_info": {
   "name": "python",
   "version": "3.9.5"
  },
  "orig_nbformat": 4
 },
 "nbformat": 4,
 "nbformat_minor": 2
}
